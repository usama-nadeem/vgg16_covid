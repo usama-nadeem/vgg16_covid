{
  "nbformat": 4,
  "nbformat_minor": 0,
  "metadata": {
    "colab": {
      "name": "vgg16_covid.ipynb",
      "provenance": []
    },
    "kernelspec": {
      "name": "python3",
      "display_name": "Python 3"
    },
    "accelerator": "GPU"
  },
  "cells": [
    {
      "cell_type": "code",
      "metadata": {
        "id": "_f0SYrI6dsvd"
      },
      "source": [
        "!wget https://www.dropbox.com/s/9w8nmj791c9ogsx/data_upload_v3.zip?dl=0"
      ],
      "execution_count": null,
      "outputs": []
    },
    {
      "cell_type": "code",
      "metadata": {
        "id": "lNGBiBvteCwz"
      },
      "source": [
        "import os\r\n",
        "import cv2\r\n",
        "import numpy as np\r\n",
        "from imutils import paths\r\n",
        "from sklearn.preprocessing import LabelBinarizer\r\n",
        "from tqdm import tqdm\r\n",
        "import pathlib\r\n",
        "import tensorflow as tf\r\n",
        "import tensorflow_datasets as tfds \r\n",
        "from tensorflow.keras.preprocessing.image import ImageDataGenerator\r\n",
        "from sklearn.model_selection import train_test_split\r\n",
        "from keras.layers import Activation, Dense\r\n",
        "from keras.optimizers import SGD"
      ],
      "execution_count": 126,
      "outputs": []
    },
    {
      "cell_type": "code",
      "metadata": {
        "id": "vwK9GY_GeUMI"
      },
      "source": [
        "!unzip data_upload_v3.zip"
      ],
      "execution_count": null,
      "outputs": []
    },
    {
      "cell_type": "code",
      "metadata": {
        "colab": {
          "base_uri": "https://localhost:8080/"
        },
        "id": "o6U5_3IXeq8f",
        "outputId": "10671e1b-d345-492b-9e08-8105013b98fc"
      },
      "source": [
        "!ls"
      ],
      "execution_count": 10,
      "outputs": [
        {
          "output_type": "stream",
          "text": [
            "data_upload_v3\tdata_upload_v3.zip  sample_data\n"
          ],
          "name": "stdout"
        }
      ]
    },
    {
      "cell_type": "code",
      "metadata": {
        "id": "kE-Ozv0_uSOe"
      },
      "source": [
        "def load_images_from_folder(folder):\r\n",
        "    print(\"Loading from folder: \", os.path.basename(folder))\r\n",
        "    images = []\r\n",
        "    labels = []\r\n",
        "    for filename in os.listdir(folder):\r\n",
        "        img = cv2.imread(os.path.join(folder,filename))\r\n",
        "        img= cv2.resize(img, (150,150))\r\n",
        "        if img is not None:\r\n",
        "            images.append(img)\r\n",
        "            if os.path.basename(folder) != 'covid':\r\n",
        "              labels.append(0)\r\n",
        "            elif os.path.basename(folder) == 'covid':\r\n",
        "              labels.append(1)\r\n",
        "    return images, labels"
      ],
      "execution_count": 114,
      "outputs": []
    },
    {
      "cell_type": "code",
      "metadata": {
        "colab": {
          "base_uri": "https://localhost:8080/"
        },
        "id": "gTaL4WEqu7oJ",
        "outputId": "2cb1c8d0-35de-4a5e-84dd-17912cb767ad"
      },
      "source": [
        "train_pos = \"/content/data_upload_v3/train/covid\"\r\n",
        "train_neg = \"/content/data_upload_v3/train/non\"\r\n",
        "\r\n",
        "img_train_pos, label_train_pos = load_images_from_folder(train_pos)\r\n",
        "img_train_neg, label_train_neg = load_images_from_folder(train_neg)\r\n",
        "\r\n",
        "print (\"Number of Training Images (Positive):   \", len(img_train_pos))\r\n",
        "print (\"Number of Training Images (Negative):   \", len(img_train_neg))"
      ],
      "execution_count": 53,
      "outputs": [
        {
          "output_type": "stream",
          "text": [
            "Loading from folder:  covid\n",
            "Loading from folder:  non\n",
            "Number of Training Images (Positive):    84\n",
            "Number of Training Images (Negative):    2000\n"
          ],
          "name": "stdout"
        }
      ]
    },
    {
      "cell_type": "code",
      "metadata": {
        "colab": {
          "base_uri": "https://localhost:8080/"
        },
        "id": "3SKeTGqwgaA6",
        "outputId": "ebc84ea8-53d9-42ef-829b-e5b6591257de"
      },
      "source": [
        "img_train_neg[12].shape\r\n"
      ],
      "execution_count": 54,
      "outputs": [
        {
          "output_type": "execute_result",
          "data": {
            "text/plain": [
              "(150, 150, 3)"
            ]
          },
          "metadata": {
            "tags": []
          },
          "execution_count": 54
        }
      ]
    },
    {
      "cell_type": "markdown",
      "metadata": {
        "id": "3EPc9ZIAwnpg"
      },
      "source": [
        "Train and Test Data has been loaded into the memory uptil now"
      ]
    },
    {
      "cell_type": "code",
      "metadata": {
        "colab": {
          "resources": {
            "http://localhost:8080/nbextensions/google.colab/files.js": {
              "data": "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",
              "ok": true,
              "headers": [
                [
                  "content-type",
                  "application/javascript"
                ]
              ],
              "status": 200,
              "status_text": ""
            }
          },
          "base_uri": "https://localhost:8080/",
          "height": 89
        },
        "id": "jnGjQZrQvsIH",
        "outputId": "fea1be21-b313-4e29-b539-223651a6efd5"
      },
      "source": [
        "from google.colab import files\r\n",
        "files.upload()"
      ],
      "execution_count": 16,
      "outputs": [
        {
          "output_type": "display_data",
          "data": {
            "text/html": [
              "\n",
              "     <input type=\"file\" id=\"files-efce3b04-b82d-4bf2-82fe-9c2964254098\" name=\"files[]\" multiple disabled\n",
              "        style=\"border:none\" />\n",
              "     <output id=\"result-efce3b04-b82d-4bf2-82fe-9c2964254098\">\n",
              "      Upload widget is only available when the cell has been executed in the\n",
              "      current browser session. Please rerun this cell to enable.\n",
              "      </output>\n",
              "      <script src=\"/nbextensions/google.colab/files.js\"></script> "
            ],
            "text/plain": [
              "<IPython.core.display.HTML object>"
            ]
          },
          "metadata": {
            "tags": []
          }
        },
        {
          "output_type": "stream",
          "text": [
            "Saving kaggle.json to kaggle.json\n"
          ],
          "name": "stdout"
        },
        {
          "output_type": "execute_result",
          "data": {
            "text/plain": [
              "{'kaggle.json': b'{\"username\":\"usamanadeem321\",\"key\":\"b1721c990253ea4db5edb1e6a07c69c4\"}'}"
            ]
          },
          "metadata": {
            "tags": []
          },
          "execution_count": 16
        }
      ]
    },
    {
      "cell_type": "code",
      "metadata": {
        "id": "xci-WYCFv3ju"
      },
      "source": [
        "!mkdir ~/.kaggle\r\n",
        "!cp kaggle.json ~/.kaggle"
      ],
      "execution_count": 17,
      "outputs": []
    },
    {
      "cell_type": "code",
      "metadata": {
        "colab": {
          "base_uri": "https://localhost:8080/"
        },
        "id": "W0M_lEGUwR-m",
        "outputId": "13872db5-6ac8-4d23-8856-ce7bb5c71550"
      },
      "source": [
        "!kaggle datasets download -d nabeelsajid917/covid-19-x-ray-10000-images"
      ],
      "execution_count": 18,
      "outputs": [
        {
          "output_type": "stream",
          "text": [
            "Warning: Your Kaggle API key is readable by other users on this system! To fix this, you can run 'chmod 600 /root/.kaggle/kaggle.json'\n",
            "Downloading covid-19-x-ray-10000-images.zip to /content\n",
            " 96% 89.0M/92.7M [00:03<00:00, 18.4MB/s]\n",
            "100% 92.7M/92.7M [00:03<00:00, 25.4MB/s]\n"
          ],
          "name": "stdout"
        }
      ]
    },
    {
      "cell_type": "code",
      "metadata": {
        "colab": {
          "base_uri": "https://localhost:8080/"
        },
        "id": "o48FIyg2wWmO",
        "outputId": "d30b5c33-704a-485a-dc7c-90cff228670f"
      },
      "source": [
        "!ls"
      ],
      "execution_count": 19,
      "outputs": [
        {
          "output_type": "stream",
          "text": [
            "covid-19-x-ray-10000-images.zip  data_upload_v3.zip  sample_data\n",
            "data_upload_v3\t\t\t kaggle.json\n"
          ],
          "name": "stdout"
        }
      ]
    },
    {
      "cell_type": "code",
      "metadata": {
        "id": "hhxNbVwqwlz1"
      },
      "source": [
        "!unzip covid-19-x-ray-10000-images.zip"
      ],
      "execution_count": null,
      "outputs": []
    },
    {
      "cell_type": "code",
      "metadata": {
        "id": "bFPnBlQnwuU2"
      },
      "source": [
        "def load_kaggle_dataset(folder):\r\n",
        "    print(\"Loading from folder: \", os.path.basename(folder))\r\n",
        "    images = []\r\n",
        "    labels = []\r\n",
        "    for filename in os.listdir(folder):\r\n",
        "        img = cv2.imread(os.path.join(folder,filename))\r\n",
        "        img= cv2.resize(img, (150,150))\r\n",
        "        if img is not None:\r\n",
        "            images.append(img)\r\n",
        "            if os.path.basename(folder) == 'normal':\r\n",
        "              labels.append(0)\r\n",
        "            elif os.path.basename(folder) == 'covid':\r\n",
        "              labels.append(1)\r\n",
        "    return images, labels"
      ],
      "execution_count": 55,
      "outputs": []
    },
    {
      "cell_type": "code",
      "metadata": {
        "colab": {
          "base_uri": "https://localhost:8080/"
        },
        "id": "zApOAUnjzOWo",
        "outputId": "d5134b88-ac04-431e-a5c1-3e5b314c86b7"
      },
      "source": [
        "K_train_pos = \"/content/dataset/covid\"\r\n",
        "K_train_neg = \"/content/dataset/normal\"\r\n",
        "\r\n",
        "K_img_train_pos, K_label_train_pos = load_kaggle_dataset(K_train_pos)\r\n",
        "K_img_train_neg, K_label_train_neg = load_kaggle_dataset(K_train_neg)\r\n",
        "\r\n",
        "print (\"Number of Training Images (Positive):   \", len(K_img_train_pos))\r\n",
        "print (\"Number of Training Images (Negative):   \", len(K_img_train_neg))"
      ],
      "execution_count": 56,
      "outputs": [
        {
          "output_type": "stream",
          "text": [
            "Loading from folder:  covid\n",
            "Loading from folder:  normal\n",
            "Number of Training Images (Positive):    70\n",
            "Number of Training Images (Negative):    28\n"
          ],
          "name": "stdout"
        }
      ]
    },
    {
      "cell_type": "code",
      "metadata": {
        "colab": {
          "base_uri": "https://localhost:8080/"
        },
        "id": "tBW9nXMx0OZ3",
        "outputId": "c141da2a-9410-4523-dfb5-f2e66d2b4035"
      },
      "source": [
        "#join kaggle andd dropbox dataset\r\n",
        "Training_Images_pos=img_train_pos+K_img_train_pos\r\n",
        "Training_Images_neg=img_train_neg+K_img_train_neg\r\n",
        "Training_Labels_pos=label_train_pos+K_label_train_pos \r\n",
        "Training_Labels_neg=label_train_neg+K_label_train_neg \r\n",
        "\r\n",
        "#join positive and negative training examples into single list \r\n",
        "total_training_img= Training_Images_pos+ Training_Images_neg\r\n",
        "total_training_labels=Training_Labels_pos+Training_Labels_neg\r\n",
        "\r\n",
        "print(len(total_training_img) )\r\n",
        "print(len(total_training_labels) )"
      ],
      "execution_count": 58,
      "outputs": [
        {
          "output_type": "stream",
          "text": [
            "2182\n",
            "2182\n"
          ],
          "name": "stdout"
        }
      ]
    },
    {
      "cell_type": "code",
      "metadata": {
        "id": "X9LbK3_I12aa"
      },
      "source": [
        "(X_train, X_valid, Y_train, Y_valid)= train_test_split(total_training_img, total_training_labels, test_size=0.1, random_state=20)"
      ],
      "execution_count": 142,
      "outputs": []
    },
    {
      "cell_type": "code",
      "metadata": {
        "id": "zkQ5nTIE5X4G"
      },
      "source": [
        "import keras\r\n",
        "from keras.layers import Conv2D, Dense, MaxPooling2D, Flatten, Dropout\r\n",
        "from keras.models import Sequential\r\n",
        "\r\n",
        "\r\n",
        "vgg16 = Sequential()\r\n",
        "vgg16.add(Conv2D(64, kernel_size=3, padding='same', activation='relu',\r\n",
        "                 input_shape=(150, 150, 3)))\r\n",
        "vgg16.add(Conv2D(64, kernel_size=3, padding='same', activation='relu'))\r\n",
        "vgg16.add(MaxPooling2D(pool_size=2, strides=2))\r\n",
        "vgg16.add(Dropout(0.25))\r\n",
        "\r\n",
        "vgg16.add(Conv2D(128, kernel_size=3, padding='same', activation='relu'))\r\n",
        "vgg16.add(Conv2D(128, kernel_size=3, padding='same', activation='relu'))\r\n",
        "vgg16.add(MaxPooling2D(pool_size=2, strides=2))\r\n",
        "vgg16.add(Dropout(0.25))\r\n",
        "\r\n",
        "vgg16.add(Conv2D(256, kernel_size=3, padding='same', activation='relu'))\r\n",
        "vgg16.add(Conv2D(256, kernel_size=3, padding='same', activation='relu'))\r\n",
        "vgg16.add(Conv2D(256, kernel_size=3, padding='same', activation='relu'))\r\n",
        "vgg16.add(MaxPooling2D(pool_size=2, strides=2))\r\n",
        "vgg16.add(Dropout(0.25))\r\n",
        "\r\n",
        "vgg16.add(Conv2D(512, kernel_size=3, padding='same', activation='relu'))\r\n",
        "vgg16.add(Conv2D(512, kernel_size=3, padding='same', activation='relu'))\r\n",
        "vgg16.add(Conv2D(512, kernel_size=3, padding='same', activation='relu'))\r\n",
        "vgg16.add(MaxPooling2D(pool_size=2, strides=2))\r\n",
        "vgg16.add(Dropout(0.25))\r\n",
        "\r\n",
        "vgg16.add(Conv2D(512, kernel_size=3, activation='relu'))\r\n",
        "vgg16.add(Conv2D(512, kernel_size=3, activation='relu'))\r\n",
        "vgg16.add(Conv2D(512, kernel_size=3, activation='relu'))\r\n",
        "vgg16.add(MaxPooling2D(pool_size=2, strides=2))\r\n",
        "vgg16.add(Dropout(0.25))\r\n",
        "\r\n",
        "vgg16.add(Flatten())\r\n",
        "\r\n",
        "vgg16.add(Dense(4096, activation='relu'))\r\n",
        "vgg16.add(Dense(4096, activation='relu'))\r\n",
        "vgg16.add(Dense(4096, activation='relu'))\r\n",
        "\r\n",
        "# the data we are using has 2 classes\r\n",
        "vgg16.add(Dense(2))\r\n",
        "vgg16.add(Activation ('softmax'))\r\n",
        "#vgg16.add(Dense(1, activation='softmax'))\r\n"
      ],
      "execution_count": 143,
      "outputs": []
    },
    {
      "cell_type": "code",
      "metadata": {
        "colab": {
          "base_uri": "https://localhost:8080/"
        },
        "id": "Aar8aTMEAiSW",
        "outputId": "5c85a1f3-ba85-4f4f-e44e-fab4e0b91b4b"
      },
      "source": [
        "opt = SGD(lr=0.01)\r\n",
        "vgg16.compile(loss = \"sparse_categorical_crossentropy\", optimizer = 'SGD', metrics = ['accuracy'])\r\n",
        "\r\n",
        "#vgg16.compile(loss = 'sparse_categorical_crossentropy', optimizer = opt,     metrics = ['accuracy'])\r\n",
        "vgg16.summary()"
      ],
      "execution_count": 146,
      "outputs": [
        {
          "output_type": "stream",
          "text": [
            "Model: \"sequential_10\"\n",
            "_________________________________________________________________\n",
            "Layer (type)                 Output Shape              Param #   \n",
            "=================================================================\n",
            "conv2d_130 (Conv2D)          (None, 150, 150, 64)      1792      \n",
            "_________________________________________________________________\n",
            "conv2d_131 (Conv2D)          (None, 150, 150, 64)      36928     \n",
            "_________________________________________________________________\n",
            "max_pooling2d_50 (MaxPooling (None, 75, 75, 64)        0         \n",
            "_________________________________________________________________\n",
            "dropout_50 (Dropout)         (None, 75, 75, 64)        0         \n",
            "_________________________________________________________________\n",
            "conv2d_132 (Conv2D)          (None, 75, 75, 128)       73856     \n",
            "_________________________________________________________________\n",
            "conv2d_133 (Conv2D)          (None, 75, 75, 128)       147584    \n",
            "_________________________________________________________________\n",
            "max_pooling2d_51 (MaxPooling (None, 37, 37, 128)       0         \n",
            "_________________________________________________________________\n",
            "dropout_51 (Dropout)         (None, 37, 37, 128)       0         \n",
            "_________________________________________________________________\n",
            "conv2d_134 (Conv2D)          (None, 37, 37, 256)       295168    \n",
            "_________________________________________________________________\n",
            "conv2d_135 (Conv2D)          (None, 37, 37, 256)       590080    \n",
            "_________________________________________________________________\n",
            "conv2d_136 (Conv2D)          (None, 37, 37, 256)       590080    \n",
            "_________________________________________________________________\n",
            "max_pooling2d_52 (MaxPooling (None, 18, 18, 256)       0         \n",
            "_________________________________________________________________\n",
            "dropout_52 (Dropout)         (None, 18, 18, 256)       0         \n",
            "_________________________________________________________________\n",
            "conv2d_137 (Conv2D)          (None, 18, 18, 512)       1180160   \n",
            "_________________________________________________________________\n",
            "conv2d_138 (Conv2D)          (None, 18, 18, 512)       2359808   \n",
            "_________________________________________________________________\n",
            "conv2d_139 (Conv2D)          (None, 18, 18, 512)       2359808   \n",
            "_________________________________________________________________\n",
            "max_pooling2d_53 (MaxPooling (None, 9, 9, 512)         0         \n",
            "_________________________________________________________________\n",
            "dropout_53 (Dropout)         (None, 9, 9, 512)         0         \n",
            "_________________________________________________________________\n",
            "conv2d_140 (Conv2D)          (None, 7, 7, 512)         2359808   \n",
            "_________________________________________________________________\n",
            "conv2d_141 (Conv2D)          (None, 5, 5, 512)         2359808   \n",
            "_________________________________________________________________\n",
            "conv2d_142 (Conv2D)          (None, 3, 3, 512)         2359808   \n",
            "_________________________________________________________________\n",
            "max_pooling2d_54 (MaxPooling (None, 1, 1, 512)         0         \n",
            "_________________________________________________________________\n",
            "dropout_54 (Dropout)         (None, 1, 1, 512)         0         \n",
            "_________________________________________________________________\n",
            "flatten_10 (Flatten)         (None, 512)               0         \n",
            "_________________________________________________________________\n",
            "dense_40 (Dense)             (None, 4096)              2101248   \n",
            "_________________________________________________________________\n",
            "dense_41 (Dense)             (None, 4096)              16781312  \n",
            "_________________________________________________________________\n",
            "dense_42 (Dense)             (None, 4096)              16781312  \n",
            "_________________________________________________________________\n",
            "dense_43 (Dense)             (None, 2)                 8194      \n",
            "_________________________________________________________________\n",
            "activation_3 (Activation)    (None, 2)                 0         \n",
            "=================================================================\n",
            "Total params: 50,386,754\n",
            "Trainable params: 50,386,754\n",
            "Non-trainable params: 0\n",
            "_________________________________________________________________\n"
          ],
          "name": "stdout"
        }
      ]
    },
    {
      "cell_type": "code",
      "metadata": {
        "id": "HAmiZrWiBp18"
      },
      "source": [
        ""
      ],
      "execution_count": 98,
      "outputs": []
    },
    {
      "cell_type": "code",
      "metadata": {
        "id": "DhnktZHW_85Y"
      },
      "source": [
        "X_train= np.asarray(X_train)\r\n",
        "#Y_train= np.asarray(Y_train)\r\n",
        "Y_train= np.asarray(Y_train).astype('float32').reshape((-1,1))\r\n",
        "X_valid= np.asarray(X_valid)\r\n",
        "#Y_valid= np.asarray(Y_valid)\r\n",
        "Y_valid= np.asarray(Y_valid).astype('float32').reshape((-1,1))\r\n",
        "\r\n"
      ],
      "execution_count": 148,
      "outputs": []
    },
    {
      "cell_type": "code",
      "metadata": {
        "colab": {
          "base_uri": "https://localhost:8080/"
        },
        "id": "E00QYYgTcn4U",
        "outputId": "79ca5816-f6e9-47d6-f2a3-29f6cc743f16"
      },
      "source": [
        "print(X_train.shape)\r\n",
        "print(Y_train.shape)\r\n",
        "print(X_valid.shape)\r\n",
        "print(Y_valid.shape)"
      ],
      "execution_count": 149,
      "outputs": [
        {
          "output_type": "stream",
          "text": [
            "(1963, 150, 150, 3)\n",
            "(1963, 1)\n",
            "(219, 150, 150, 3)\n",
            "(219, 1)\n"
          ],
          "name": "stdout"
        }
      ]
    },
    {
      "cell_type": "code",
      "metadata": {
        "colab": {
          "base_uri": "https://localhost:8080/"
        },
        "id": "NMGOA-dxAYnv",
        "outputId": "0dc8b017-2b98-4ab3-c2a2-91a1aca15605"
      },
      "source": [
        "trained = vgg16.fit(X_train, Y_train, batch_size=64, epochs=20, validation_data=(X_valid, Y_valid))"
      ],
      "execution_count": 150,
      "outputs": [
        {
          "output_type": "stream",
          "text": [
            "Epoch 1/20\n",
            "31/31 [==============================] - 34s 1s/step - loss: 0.3534 - accuracy: 0.8266 - val_loss: 0.5607 - val_accuracy: 0.9498\n",
            "Epoch 2/20\n",
            "31/31 [==============================] - 25s 797ms/step - loss: 0.2487 - accuracy: 0.9283 - val_loss: 0.4985 - val_accuracy: 0.9498\n",
            "Epoch 3/20\n",
            "31/31 [==============================] - 25s 795ms/step - loss: 0.2476 - accuracy: 0.9295 - val_loss: 0.4909 - val_accuracy: 0.9498\n",
            "Epoch 4/20\n",
            "31/31 [==============================] - 25s 796ms/step - loss: 0.2463 - accuracy: 0.9288 - val_loss: 0.5198 - val_accuracy: 0.9498\n",
            "Epoch 5/20\n",
            "31/31 [==============================] - 25s 794ms/step - loss: 0.2387 - accuracy: 0.9266 - val_loss: 0.5338 - val_accuracy: 0.9498\n",
            "Epoch 6/20\n",
            "31/31 [==============================] - 25s 794ms/step - loss: 0.2369 - accuracy: 0.9267 - val_loss: 0.4450 - val_accuracy: 0.9498\n",
            "Epoch 7/20\n",
            "31/31 [==============================] - 25s 794ms/step - loss: 0.2200 - accuracy: 0.9265 - val_loss: 0.4043 - val_accuracy: 0.9498\n",
            "Epoch 8/20\n",
            "31/31 [==============================] - 25s 793ms/step - loss: 0.1960 - accuracy: 0.9277 - val_loss: 0.4128 - val_accuracy: 0.9498\n",
            "Epoch 9/20\n",
            "31/31 [==============================] - 25s 792ms/step - loss: 0.1763 - accuracy: 0.9342 - val_loss: 0.2835 - val_accuracy: 0.9498\n",
            "Epoch 10/20\n",
            "31/31 [==============================] - 25s 792ms/step - loss: 0.1569 - accuracy: 0.9344 - val_loss: 0.5695 - val_accuracy: 0.9269\n",
            "Epoch 11/20\n",
            "31/31 [==============================] - 25s 794ms/step - loss: 0.1828 - accuracy: 0.9258 - val_loss: 0.1992 - val_accuracy: 0.9543\n",
            "Epoch 12/20\n",
            "31/31 [==============================] - 25s 798ms/step - loss: 0.1647 - accuracy: 0.9299 - val_loss: 0.1350 - val_accuracy: 0.9589\n",
            "Epoch 13/20\n",
            "31/31 [==============================] - 25s 792ms/step - loss: 0.1362 - accuracy: 0.9364 - val_loss: 0.1485 - val_accuracy: 0.9635\n",
            "Epoch 14/20\n",
            "31/31 [==============================] - 25s 793ms/step - loss: 0.1299 - accuracy: 0.9333 - val_loss: 0.1377 - val_accuracy: 0.9635\n",
            "Epoch 15/20\n",
            "31/31 [==============================] - 25s 792ms/step - loss: 0.1892 - accuracy: 0.9178 - val_loss: 0.1495 - val_accuracy: 0.9589\n",
            "Epoch 16/20\n",
            "31/31 [==============================] - 25s 792ms/step - loss: 0.1148 - accuracy: 0.9580 - val_loss: 0.3498 - val_accuracy: 0.8447\n",
            "Epoch 17/20\n",
            "31/31 [==============================] - 25s 791ms/step - loss: 0.1516 - accuracy: 0.9533 - val_loss: 0.1287 - val_accuracy: 0.9726\n",
            "Epoch 18/20\n",
            "31/31 [==============================] - 25s 791ms/step - loss: 0.1456 - accuracy: 0.9606 - val_loss: 0.2158 - val_accuracy: 0.9315\n",
            "Epoch 19/20\n",
            "31/31 [==============================] - 25s 791ms/step - loss: 0.1367 - accuracy: 0.9586 - val_loss: 0.1249 - val_accuracy: 0.9635\n",
            "Epoch 20/20\n",
            "31/31 [==============================] - 24s 790ms/step - loss: 0.1112 - accuracy: 0.9600 - val_loss: 0.1282 - val_accuracy: 0.9589\n"
          ],
          "name": "stdout"
        }
      ]
    },
    {
      "cell_type": "code",
      "metadata": {
        "colab": {
          "base_uri": "https://localhost:8080/"
        },
        "id": "xwgBYhu_dxmr",
        "outputId": "fbdf7c16-eb29-4b45-dd94-7b719c5148fc"
      },
      "source": [
        "#load test data\r\n",
        "test_pos = \"/content/data_upload_v3/test/covid\"\r\n",
        "test_neg = \"/content/data_upload_v3/test/non/No_Finding\"\r\n",
        "\r\n",
        "img_test_pos, label_test_pos = load_images_from_folder(test_pos)\r\n",
        "img_test_neg, label_test_neg = load_images_from_folder(test_neg)\r\n",
        "\r\n",
        "#join positive and negative training examples into single list \r\n",
        "total_test_img= img_test_pos+ img_test_neg\r\n",
        "total_test_labels=label_test_pos+label_test_neg\r\n",
        "\r\n",
        "print(len(total_test_img) )\r\n",
        "print(len(total_test_labels) )\r\n",
        "\r\n"
      ],
      "execution_count": 151,
      "outputs": [
        {
          "output_type": "stream",
          "text": [
            "Loading from folder:  covid\n",
            "Loading from folder:  No_Finding\n",
            "1800\n",
            "1800\n"
          ],
          "name": "stdout"
        }
      ]
    },
    {
      "cell_type": "code",
      "metadata": {
        "colab": {
          "base_uri": "https://localhost:8080/"
        },
        "id": "witPmgout_6L",
        "outputId": "857ad0bc-7adf-4501-d987-98cc57800d01"
      },
      "source": [
        "total_test_img= np.asarray(total_test_img)\r\n",
        "total_test_labels= np.asarray(total_test_labels)\r\n",
        "score = vgg16.evaluate(total_test_img, total_test_labels, batch_size=4)\r\n",
        "print('Test Loss = ', score[0])\r\n",
        "print('Test Accuracy = ', score[1])"
      ],
      "execution_count": 152,
      "outputs": [
        {
          "output_type": "stream",
          "text": [
            "450/450 [==============================] - 18s 39ms/step - loss: 0.1063 - accuracy: 0.9711\n",
            "Test Loss =  0.10631009936332703\n",
            "Test Accuracy =  0.9711111187934875\n"
          ],
          "name": "stdout"
        }
      ]
    },
    {
      "cell_type": "code",
      "metadata": {
        "colab": {
          "base_uri": "https://localhost:8080/",
          "height": 299
        },
        "id": "RSZvsuuYycFl",
        "outputId": "c7a12fef-9c4e-4f42-dc2f-227ce639dee1"
      },
      "source": [
        "'''LEARNING CURVE'''\r\n",
        "\r\n",
        "import matplotlib.pyplot as plt\r\n",
        "N = np.arange(0, 20)\r\n",
        "plt.style.use('ggplot')\r\n",
        "plt.figure()\r\n",
        "plt.plot(N, trained.history['loss'], label='train_loss')\r\n",
        "plt.plot(N, trained.history['val_loss'], label='val_loss')\r\n",
        "plt.plot(N, trained.history['accuracy'], label='train_accuracy')\r\n",
        "plt.plot(N, trained.history['val_accuracy'], label='val_accuracy')\r\n",
        "plt.title('Training loss and accuracy')\r\n",
        "plt.xlabel('Epoch #')\r\n",
        "plt.ylabel('Loss/Accuracy')\r\n",
        "plt.legend()\r\n",
        "plt.show()"
      ],
      "execution_count": 154,
      "outputs": [
        {
          "output_type": "display_data",
          "data": {
            "image/png": "[encoded data removed]",
            "text/plain": [
              "<Figure size 432x288 with 1 Axes>"
            ]
          },
          "metadata": {
            "tags": []
          }
        }
      ]
    },
    {
      "cell_type": "code",
      "metadata": {
        "id": "CtJpT8IBCjLl"
      },
      "source": [
        ""
      ],
      "execution_count": null,
      "outputs": []
    }
  ]
}